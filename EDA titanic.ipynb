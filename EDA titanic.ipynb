{
 "cells": [
  {
   "cell_type": "code",
   "execution_count": 1,
   "id": "237a070e-f11c-4f8a-8f82-fc1cdc06f8a2",
   "metadata": {},
   "outputs": [],
   "source": [
    "#importando bibliotecas\n",
    "import matplotlib.pyplot as plt \n",
    "import pandas as pd\n",
    "import seaborn as sns"
   ]
  },
  {
   "cell_type": "code",
   "execution_count": 4,
   "id": "4e0a5ad3-982a-49b9-834d-c9c7c02ca2b6",
   "metadata": {},
   "outputs": [],
   "source": [
    "#carregando a base\n",
    "df = pd.read_csv(r\"C:\\Users\\jogmo\\Downloads\\train.csv\",)"
   ]
  },
  {
   "cell_type": "markdown",
   "id": "eca4ca3a-6ef7-4107-a244-bc7792a5116a",
   "metadata": {},
   "source": [
    "# Dicionário:\n",
    "idpassageiro = Identificador único de cada passageiro.\n",
    "sobreviveu = Indica se o passageiro sobreviveu (1 = sim, 0 = não).\n",
    "classepassageiro = Classe do bilhete (1ª, 2ª ou 3ª classe).\n",
    "nome = Nome completo do passageiro.\n",
    "sexo = Sexo do passageiro (masculino ou feminino).\n",
    "idade = Idade do passageiro em anos (valores decimais possíveis).\n",
    "irmaos_conjuges_abordo = Quantos irmãos ou cônjuges (marido/esposa) estavam a bordo com ele.\n",
    "pais_filhos_abordo = Quantos pais ou filhos estavam a bordo com ele.\n",
    "bilhete\t= Número do bilhete de embarque.\n",
    "tarifa = Valor pago pela passagem.\n",
    "cabine = Código da cabine onde o passageiro ficou (nem todos têm).\n",
    "embarque = Porto onde o passageiro embarcou:"
   ]
  },
  {
   "cell_type": "code",
   "execution_count": 6,
   "id": "340904c9-d255-412d-8f3f-cfd196fb8fb2",
   "metadata": {},
   "outputs": [],
   "source": [
    "#renomeando as colunas de forma traduzida\n",
    "df = df.rename(columns={ \n",
    "    'PassengerId': 'idpassageiro',\n",
    "    'Survived': 'sobreviveu',\n",
    "    'Pclass': 'classepassageiro',\n",
    "    'Name': 'nome',\n",
    "    'Sex': 'sexo',\n",
    "    'Age': 'idade',\n",
    "    'SibSp': 'irmaos_conjuges_abordo',\n",
    "    'Parch': 'pais_filhos_abordo',\n",
    "    'Ticket': 'bilhete',\n",
    "    'Fare': 'tarifa',\n",
    "    'Cabin': 'cabine',\n",
    "    'Embarked': 'embarque'\n",
    "})\n"
   ]
  },
  {
   "cell_type": "code",
   "execution_count": 9,
   "id": "20aeddca-5275-4d0b-903f-4a93e5416903",
   "metadata": {},
   "outputs": [
    {
     "data": {
      "text/html": [
       "<div>\n",
       "<style scoped>\n",
       "    .dataframe tbody tr th:only-of-type {\n",
       "        vertical-align: middle;\n",
       "    }\n",
       "\n",
       "    .dataframe tbody tr th {\n",
       "        vertical-align: top;\n",
       "    }\n",
       "\n",
       "    .dataframe thead th {\n",
       "        text-align: right;\n",
       "    }\n",
       "</style>\n",
       "<table border=\"1\" class=\"dataframe\">\n",
       "  <thead>\n",
       "    <tr style=\"text-align: right;\">\n",
       "      <th></th>\n",
       "      <th>idpassageiro</th>\n",
       "      <th>nome</th>\n",
       "      <th>sexo</th>\n",
       "      <th>idade</th>\n",
       "    </tr>\n",
       "  </thead>\n",
       "  <tbody>\n",
       "    <tr>\n",
       "      <th>0</th>\n",
       "      <td>1</td>\n",
       "      <td>Braund, Mr. Owen Harris</td>\n",
       "      <td>male</td>\n",
       "      <td>22.0</td>\n",
       "    </tr>\n",
       "    <tr>\n",
       "      <th>1</th>\n",
       "      <td>2</td>\n",
       "      <td>Cumings, Mrs. John Bradley (Florence Briggs Th...</td>\n",
       "      <td>female</td>\n",
       "      <td>38.0</td>\n",
       "    </tr>\n",
       "    <tr>\n",
       "      <th>2</th>\n",
       "      <td>3</td>\n",
       "      <td>Heikkinen, Miss. Laina</td>\n",
       "      <td>female</td>\n",
       "      <td>26.0</td>\n",
       "    </tr>\n",
       "    <tr>\n",
       "      <th>3</th>\n",
       "      <td>4</td>\n",
       "      <td>Futrelle, Mrs. Jacques Heath (Lily May Peel)</td>\n",
       "      <td>female</td>\n",
       "      <td>35.0</td>\n",
       "    </tr>\n",
       "    <tr>\n",
       "      <th>4</th>\n",
       "      <td>5</td>\n",
       "      <td>Allen, Mr. William Henry</td>\n",
       "      <td>male</td>\n",
       "      <td>35.0</td>\n",
       "    </tr>\n",
       "    <tr>\n",
       "      <th>5</th>\n",
       "      <td>6</td>\n",
       "      <td>Moran, Mr. James</td>\n",
       "      <td>male</td>\n",
       "      <td>NaN</td>\n",
       "    </tr>\n",
       "    <tr>\n",
       "      <th>6</th>\n",
       "      <td>7</td>\n",
       "      <td>McCarthy, Mr. Timothy J</td>\n",
       "      <td>male</td>\n",
       "      <td>54.0</td>\n",
       "    </tr>\n",
       "    <tr>\n",
       "      <th>7</th>\n",
       "      <td>8</td>\n",
       "      <td>Palsson, Master. Gosta Leonard</td>\n",
       "      <td>male</td>\n",
       "      <td>2.0</td>\n",
       "    </tr>\n",
       "    <tr>\n",
       "      <th>8</th>\n",
       "      <td>9</td>\n",
       "      <td>Johnson, Mrs. Oscar W (Elisabeth Vilhelmina Berg)</td>\n",
       "      <td>female</td>\n",
       "      <td>27.0</td>\n",
       "    </tr>\n",
       "    <tr>\n",
       "      <th>9</th>\n",
       "      <td>10</td>\n",
       "      <td>Nasser, Mrs. Nicholas (Adele Achem)</td>\n",
       "      <td>female</td>\n",
       "      <td>14.0</td>\n",
       "    </tr>\n",
       "  </tbody>\n",
       "</table>\n",
       "</div>"
      ],
      "text/plain": [
       "   idpassageiro                                               nome    sexo  \\\n",
       "0             1                            Braund, Mr. Owen Harris    male   \n",
       "1             2  Cumings, Mrs. John Bradley (Florence Briggs Th...  female   \n",
       "2             3                             Heikkinen, Miss. Laina  female   \n",
       "3             4       Futrelle, Mrs. Jacques Heath (Lily May Peel)  female   \n",
       "4             5                           Allen, Mr. William Henry    male   \n",
       "5             6                                   Moran, Mr. James    male   \n",
       "6             7                            McCarthy, Mr. Timothy J    male   \n",
       "7             8                     Palsson, Master. Gosta Leonard    male   \n",
       "8             9  Johnson, Mrs. Oscar W (Elisabeth Vilhelmina Berg)  female   \n",
       "9            10                Nasser, Mrs. Nicholas (Adele Achem)  female   \n",
       "\n",
       "   idade  \n",
       "0   22.0  \n",
       "1   38.0  \n",
       "2   26.0  \n",
       "3   35.0  \n",
       "4   35.0  \n",
       "5    NaN  \n",
       "6   54.0  \n",
       "7    2.0  \n",
       "8   27.0  \n",
       "9   14.0  "
      ]
     },
     "execution_count": 9,
     "metadata": {},
     "output_type": "execute_result"
    }
   ],
   "source": [
    "#verificando a base inicialmente \n",
    "df[['idpassageiro', 'nome', 'sexo', 'idade']].head(10)"
   ]
  },
  {
   "cell_type": "code",
   "execution_count": 12,
   "id": "6ded67f6-3270-4967-9a45-e50a037cb7f2",
   "metadata": {},
   "outputs": [
    {
     "name": "stdout",
     "output_type": "stream",
     "text": [
      "<class 'pandas.core.frame.DataFrame'>\n",
      "RangeIndex: 891 entries, 0 to 890\n",
      "Data columns (total 12 columns):\n",
      " #   Column                  Non-Null Count  Dtype  \n",
      "---  ------                  --------------  -----  \n",
      " 0   idpassageiro            891 non-null    int64  \n",
      " 1   sobreviveu              891 non-null    int64  \n",
      " 2   classepassageiro        891 non-null    int64  \n",
      " 3   nome                    891 non-null    object \n",
      " 4   sexo                    891 non-null    object \n",
      " 5   idade                   714 non-null    float64\n",
      " 6   irmaos_conjuges_abordo  891 non-null    int64  \n",
      " 7   pais_filhos_abordo      891 non-null    int64  \n",
      " 8   bilhete                 891 non-null    object \n",
      " 9   tarifa                  891 non-null    float64\n",
      " 10  cabine                  204 non-null    object \n",
      " 11  embarque                889 non-null    object \n",
      "dtypes: float64(2), int64(5), object(5)\n",
      "memory usage: 83.7+ KB\n"
     ]
    }
   ],
   "source": [
    "#verificando se as variáveis são dos tipos exigidos\n",
    "df.info()"
   ]
  },
  {
   "cell_type": "code",
   "execution_count": 14,
   "id": "1eaf8b28-fc90-4ed3-8ef6-8d00b8ad27cb",
   "metadata": {},
   "outputs": [
    {
     "data": {
      "text/html": [
       "<div>\n",
       "<style scoped>\n",
       "    .dataframe tbody tr th:only-of-type {\n",
       "        vertical-align: middle;\n",
       "    }\n",
       "\n",
       "    .dataframe tbody tr th {\n",
       "        vertical-align: top;\n",
       "    }\n",
       "\n",
       "    .dataframe thead th {\n",
       "        text-align: right;\n",
       "    }\n",
       "</style>\n",
       "<table border=\"1\" class=\"dataframe\">\n",
       "  <thead>\n",
       "    <tr style=\"text-align: right;\">\n",
       "      <th></th>\n",
       "      <th>idpassageiro</th>\n",
       "      <th>sobreviveu</th>\n",
       "      <th>classepassageiro</th>\n",
       "      <th>idade</th>\n",
       "      <th>irmaos_conjuges_abordo</th>\n",
       "      <th>pais_filhos_abordo</th>\n",
       "      <th>tarifa</th>\n",
       "    </tr>\n",
       "  </thead>\n",
       "  <tbody>\n",
       "    <tr>\n",
       "      <th>count</th>\n",
       "      <td>891.000000</td>\n",
       "      <td>891.000000</td>\n",
       "      <td>891.000000</td>\n",
       "      <td>714.000000</td>\n",
       "      <td>891.000000</td>\n",
       "      <td>891.000000</td>\n",
       "      <td>891.000000</td>\n",
       "    </tr>\n",
       "    <tr>\n",
       "      <th>mean</th>\n",
       "      <td>446.000000</td>\n",
       "      <td>0.383838</td>\n",
       "      <td>2.308642</td>\n",
       "      <td>29.699118</td>\n",
       "      <td>0.523008</td>\n",
       "      <td>0.381594</td>\n",
       "      <td>32.204208</td>\n",
       "    </tr>\n",
       "    <tr>\n",
       "      <th>std</th>\n",
       "      <td>257.353842</td>\n",
       "      <td>0.486592</td>\n",
       "      <td>0.836071</td>\n",
       "      <td>14.526497</td>\n",
       "      <td>1.102743</td>\n",
       "      <td>0.806057</td>\n",
       "      <td>49.693429</td>\n",
       "    </tr>\n",
       "    <tr>\n",
       "      <th>min</th>\n",
       "      <td>1.000000</td>\n",
       "      <td>0.000000</td>\n",
       "      <td>1.000000</td>\n",
       "      <td>0.420000</td>\n",
       "      <td>0.000000</td>\n",
       "      <td>0.000000</td>\n",
       "      <td>0.000000</td>\n",
       "    </tr>\n",
       "    <tr>\n",
       "      <th>25%</th>\n",
       "      <td>223.500000</td>\n",
       "      <td>0.000000</td>\n",
       "      <td>2.000000</td>\n",
       "      <td>20.125000</td>\n",
       "      <td>0.000000</td>\n",
       "      <td>0.000000</td>\n",
       "      <td>7.910400</td>\n",
       "    </tr>\n",
       "    <tr>\n",
       "      <th>50%</th>\n",
       "      <td>446.000000</td>\n",
       "      <td>0.000000</td>\n",
       "      <td>3.000000</td>\n",
       "      <td>28.000000</td>\n",
       "      <td>0.000000</td>\n",
       "      <td>0.000000</td>\n",
       "      <td>14.454200</td>\n",
       "    </tr>\n",
       "    <tr>\n",
       "      <th>75%</th>\n",
       "      <td>668.500000</td>\n",
       "      <td>1.000000</td>\n",
       "      <td>3.000000</td>\n",
       "      <td>38.000000</td>\n",
       "      <td>1.000000</td>\n",
       "      <td>0.000000</td>\n",
       "      <td>31.000000</td>\n",
       "    </tr>\n",
       "    <tr>\n",
       "      <th>max</th>\n",
       "      <td>891.000000</td>\n",
       "      <td>1.000000</td>\n",
       "      <td>3.000000</td>\n",
       "      <td>80.000000</td>\n",
       "      <td>8.000000</td>\n",
       "      <td>6.000000</td>\n",
       "      <td>512.329200</td>\n",
       "    </tr>\n",
       "  </tbody>\n",
       "</table>\n",
       "</div>"
      ],
      "text/plain": [
       "       idpassageiro  sobreviveu  classepassageiro       idade  \\\n",
       "count    891.000000  891.000000        891.000000  714.000000   \n",
       "mean     446.000000    0.383838          2.308642   29.699118   \n",
       "std      257.353842    0.486592          0.836071   14.526497   \n",
       "min        1.000000    0.000000          1.000000    0.420000   \n",
       "25%      223.500000    0.000000          2.000000   20.125000   \n",
       "50%      446.000000    0.000000          3.000000   28.000000   \n",
       "75%      668.500000    1.000000          3.000000   38.000000   \n",
       "max      891.000000    1.000000          3.000000   80.000000   \n",
       "\n",
       "       irmaos_conjuges_abordo  pais_filhos_abordo      tarifa  \n",
       "count              891.000000          891.000000  891.000000  \n",
       "mean                 0.523008            0.381594   32.204208  \n",
       "std                  1.102743            0.806057   49.693429  \n",
       "min                  0.000000            0.000000    0.000000  \n",
       "25%                  0.000000            0.000000    7.910400  \n",
       "50%                  0.000000            0.000000   14.454200  \n",
       "75%                  1.000000            0.000000   31.000000  \n",
       "max                  8.000000            6.000000  512.329200  "
      ]
     },
     "execution_count": 14,
     "metadata": {},
     "output_type": "execute_result"
    }
   ],
   "source": [
    "#gerando estatisticas básicas\n",
    "df.describe()"
   ]
  },
  {
   "cell_type": "code",
   "execution_count": 15,
   "id": "aff24fee-5dc7-49ea-bfe6-b5956a142104",
   "metadata": {},
   "outputs": [
    {
     "data": {
      "image/png": "[encoded data removed]",
      "text/plain": [
       "<Figure size 640x480 with 1 Axes>"
      ]
     },
     "metadata": {},
     "output_type": "display_data"
    }
   ],
   "source": [
    "sns.barplot(data=df, x='sexo', y='sobreviveu')\n",
    "plt.title(\"taxa de sobrevivencia por gênero \")\n",
    "plt.show()\n",
    "#gerando graficos para entender a taxa de sobrevivencia\n"
   ]
  },
  {
   "cell_type": "code",
   "execution_count": 17,
   "id": "edd407c3-c82a-42dc-b5d4-08bc743dacb7",
   "metadata": {},
   "outputs": [],
   "source": [
    "#realizei um input onde preencho as cabines com valores nulos como \"Desconhecida\"\n",
    "df['cabine'] = df['cabine'].fillna('Desconhecida')"
   ]
  },
  {
   "cell_type": "code",
   "execution_count": 18,
   "id": "6456e69f-14f4-4e3d-b701-bd60072ea6d0",
   "metadata": {},
   "outputs": [],
   "source": [
    "#Realizei um input de uma mediana para as idades desconhecidas\n",
    "df['idade'] = df['idade'].fillna(df['idade'].median())\n"
   ]
  },
  {
   "cell_type": "code",
   "execution_count": 19,
   "id": "86e9f19f-cdaf-4903-bf48-5150ef2d30b5",
   "metadata": {},
   "outputs": [
    {
     "name": "stdout",
     "output_type": "stream",
     "text": [
      "Duplicadas: 0\n"
     ]
    }
   ],
   "source": [
    "#Verifiquei se continham linhas duplicadas\n",
    "print(\"Duplicadas:\", df.duplicated().sum())"
   ]
  },
  {
   "cell_type": "code",
   "execution_count": 20,
   "id": "449aa6ee-e9ea-4bf6-b2f8-c8f34bec2d72",
   "metadata": {},
   "outputs": [
    {
     "name": "stdout",
     "output_type": "stream",
     "text": [
      "idpassageiro              0\n",
      "sobreviveu                0\n",
      "classepassageiro          0\n",
      "nome                      0\n",
      "sexo                      0\n",
      "idade                     0\n",
      "irmaos_conjuges_abordo    0\n",
      "pais_filhos_abordo        0\n",
      "bilhete                   0\n",
      "tarifa                    0\n",
      "cabine                    0\n",
      "embarque                  2\n",
      "dtype: int64\n"
     ]
    }
   ],
   "source": [
    "print(df.isnull().sum())\n",
    "#verificando se continham valores nulos em um geral"
   ]
  },
  {
   "cell_type": "code",
   "execution_count": 21,
   "id": "77503f42-9be5-4388-a491-6f9cd9bd2177",
   "metadata": {},
   "outputs": [
    {
     "data": {
      "text/plain": [
       "np.int64(2)"
      ]
     },
     "execution_count": 21,
     "metadata": {},
     "output_type": "execute_result"
    }
   ],
   "source": [
    "#confirmei os nulos na coluna embarque\n",
    "df['embarque'].isnull().sum()"
   ]
  },
  {
   "cell_type": "code",
   "execution_count": 22,
   "id": "e03c67bd-b320-4afa-8f33-2ae8c5a873e0",
   "metadata": {},
   "outputs": [],
   "source": [
    "#Fiz um input de uma moda na coluna embarque\n",
    "df['embarque'] = df['embarque'].fillna(df['embarque'].mode()[0])"
   ]
  },
  {
   "cell_type": "code",
   "execution_count": 24,
   "id": "6b35a923-8077-4a6b-b7b5-ac84aa0460cb",
   "metadata": {},
   "outputs": [
    {
     "name": "stdout",
     "output_type": "stream",
     "text": [
      "sexo\n",
      "male      577\n",
      "female    314\n",
      "Name: count, dtype: int64\n",
      "classepassageiro\n",
      "3    491\n",
      "1    216\n",
      "2    184\n",
      "Name: count, dtype: int64\n"
     ]
    }
   ],
   "source": [
    " #chequei quantas mulheres e homens tinham embarcados\n",
    "print(df['sexo'].value_counts())\n",
    "#E a quanitidade de pessoas embarcadas por classe\n",
    "print(df['classepassageiro'].value_counts())"
   ]
  },
  {
   "cell_type": "code",
   "execution_count": 27,
   "id": "6a099e63-5c60-4b2e-856e-9c02d26129b3",
   "metadata": {},
   "outputs": [
    {
     "data": {
      "image/png": "[encoded data removed]",
      "text/plain": [
       "<Figure size 640x480 with 1 Axes>"
      ]
     },
     "metadata": {},
     "output_type": "display_data"
    }
   ],
   "source": [
    "#gerando gráficos para entender a taxa de sobrevivencia baseada no gênero\n",
    "sns.barplot(data=df, x='sexo', y='sobreviveu')\n",
    "plt.title(\"taxa de sobrevivencia por gênero \")\n",
    "plt.show()"
   ]
  },
  {
   "cell_type": "code",
   "execution_count": 28,
   "id": "bc80dd47-5f00-4b63-9aaa-f921ecb27f0a",
   "metadata": {},
   "outputs": [
    {
     "data": {
      "image/png": "[encoded data removed]",
      "text/plain": [
       "<Figure size 640x480 with 1 Axes>"
      ]
     },
     "metadata": {},
     "output_type": "display_data"
    }
   ],
   "source": [
    "#gerando do mesmo modo agora para mostrar a taxa baseada por classe embarcada\n",
    "sns.barplot(data=df, x='classepassageiro', y='sobreviveu')\n",
    "plt.title(\"Taxa de sobrevivência por classe\")\n",
    "plt.show()"
   ]
  },
  {
   "cell_type": "code",
   "execution_count": 29,
   "id": "cdc44017-52e2-4b38-be1e-eb3d27ca7f44",
   "metadata": {},
   "outputs": [
    {
     "data": {
      "image/png": "[encoded data removed]",
      "text/plain": [
       "<Figure size 640x480 with 1 Axes>"
      ]
     },
     "metadata": {},
     "output_type": "display_data"
    }
   ],
   "source": [
    "#Checando a distribuição por idade dos passageiros\n",
    "sns.histplot(df['idade'], kde=True)\n",
    "plt.title(\"Distribuição de idades dos passageiros\")\n",
    "plt.show()\n"
   ]
  },
  {
   "cell_type": "code",
   "execution_count": null,
   "id": "cad90dbf-f8a1-4919-a65a-69c58b9ee5df",
   "metadata": {},
   "outputs": [],
   "source": []
  }
 ],
 "metadata": {
  "kernelspec": {
   "display_name": "Python 3 (ipykernel)",
   "language": "python",
   "name": "python3"
  },
  "language_info": {
   "codemirror_mode": {
    "name": "ipython",
    "version": 3
   },
   "file_extension": ".py",
   "mimetype": "text/x-python",
   "name": "python",
   "nbconvert_exporter": "python",
   "pygments_lexer": "ipython3",
   "version": "3.13.5"
  }
 },
 "nbformat": 4,
 "nbformat_minor": 5
}
